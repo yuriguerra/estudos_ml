{
 "cells": [
  {
   "cell_type": "markdown",
   "metadata": {},
   "source": [
    "# Importação de bibliotecas"
   ]
  },
  {
   "cell_type": "code",
   "execution_count": 1,
   "metadata": {},
   "outputs": [],
   "source": [
    "import pandas as pd\n",
    "import numpy as np"
   ]
  },
  {
   "cell_type": "markdown",
   "metadata": {},
   "source": [
    "# Recuperação dos dados"
   ]
  },
  {
   "cell_type": "code",
   "execution_count": 49,
   "metadata": {},
   "outputs": [],
   "source": [
    "train = pd.read_csv(\"data/train.csv\")\n",
    "teste = pd.read_csv(\"data/test.csv\")"
   ]
  },
  {
   "cell_type": "code",
   "execution_count": 3,
   "metadata": {},
   "outputs": [
    {
     "data": {
      "text/html": [
       "<div>\n",
       "<style scoped>\n",
       "    .dataframe tbody tr th:only-of-type {\n",
       "        vertical-align: middle;\n",
       "    }\n",
       "\n",
       "    .dataframe tbody tr th {\n",
       "        vertical-align: top;\n",
       "    }\n",
       "\n",
       "    .dataframe thead th {\n",
       "        text-align: right;\n",
       "    }\n",
       "</style>\n",
       "<table border=\"1\" class=\"dataframe\">\n",
       "  <thead>\n",
       "    <tr style=\"text-align: right;\">\n",
       "      <th></th>\n",
       "      <th>PassengerId</th>\n",
       "      <th>Survived</th>\n",
       "      <th>Pclass</th>\n",
       "      <th>Name</th>\n",
       "      <th>Sex</th>\n",
       "      <th>Age</th>\n",
       "      <th>SibSp</th>\n",
       "      <th>Parch</th>\n",
       "      <th>Ticket</th>\n",
       "      <th>Fare</th>\n",
       "      <th>Cabin</th>\n",
       "      <th>Embarked</th>\n",
       "    </tr>\n",
       "  </thead>\n",
       "  <tbody>\n",
       "    <tr>\n",
       "      <th>0</th>\n",
       "      <td>1</td>\n",
       "      <td>0</td>\n",
       "      <td>3</td>\n",
       "      <td>Braund, Mr. Owen Harris</td>\n",
       "      <td>male</td>\n",
       "      <td>22.0</td>\n",
       "      <td>1</td>\n",
       "      <td>0</td>\n",
       "      <td>A/5 21171</td>\n",
       "      <td>7.2500</td>\n",
       "      <td>NaN</td>\n",
       "      <td>S</td>\n",
       "    </tr>\n",
       "    <tr>\n",
       "      <th>1</th>\n",
       "      <td>2</td>\n",
       "      <td>1</td>\n",
       "      <td>1</td>\n",
       "      <td>Cumings, Mrs. John Bradley (Florence Briggs Th...</td>\n",
       "      <td>female</td>\n",
       "      <td>38.0</td>\n",
       "      <td>1</td>\n",
       "      <td>0</td>\n",
       "      <td>PC 17599</td>\n",
       "      <td>71.2833</td>\n",
       "      <td>C85</td>\n",
       "      <td>C</td>\n",
       "    </tr>\n",
       "    <tr>\n",
       "      <th>2</th>\n",
       "      <td>3</td>\n",
       "      <td>1</td>\n",
       "      <td>3</td>\n",
       "      <td>Heikkinen, Miss. Laina</td>\n",
       "      <td>female</td>\n",
       "      <td>26.0</td>\n",
       "      <td>0</td>\n",
       "      <td>0</td>\n",
       "      <td>STON/O2. 3101282</td>\n",
       "      <td>7.9250</td>\n",
       "      <td>NaN</td>\n",
       "      <td>S</td>\n",
       "    </tr>\n",
       "    <tr>\n",
       "      <th>3</th>\n",
       "      <td>4</td>\n",
       "      <td>1</td>\n",
       "      <td>1</td>\n",
       "      <td>Futrelle, Mrs. Jacques Heath (Lily May Peel)</td>\n",
       "      <td>female</td>\n",
       "      <td>35.0</td>\n",
       "      <td>1</td>\n",
       "      <td>0</td>\n",
       "      <td>113803</td>\n",
       "      <td>53.1000</td>\n",
       "      <td>C123</td>\n",
       "      <td>S</td>\n",
       "    </tr>\n",
       "    <tr>\n",
       "      <th>4</th>\n",
       "      <td>5</td>\n",
       "      <td>0</td>\n",
       "      <td>3</td>\n",
       "      <td>Allen, Mr. William Henry</td>\n",
       "      <td>male</td>\n",
       "      <td>35.0</td>\n",
       "      <td>0</td>\n",
       "      <td>0</td>\n",
       "      <td>373450</td>\n",
       "      <td>8.0500</td>\n",
       "      <td>NaN</td>\n",
       "      <td>S</td>\n",
       "    </tr>\n",
       "  </tbody>\n",
       "</table>\n",
       "</div>"
      ],
      "text/plain": [
       "   PassengerId  Survived  Pclass  \\\n",
       "0            1         0       3   \n",
       "1            2         1       1   \n",
       "2            3         1       3   \n",
       "3            4         1       1   \n",
       "4            5         0       3   \n",
       "\n",
       "                                                Name     Sex   Age  SibSp  \\\n",
       "0                            Braund, Mr. Owen Harris    male  22.0      1   \n",
       "1  Cumings, Mrs. John Bradley (Florence Briggs Th...  female  38.0      1   \n",
       "2                             Heikkinen, Miss. Laina  female  26.0      0   \n",
       "3       Futrelle, Mrs. Jacques Heath (Lily May Peel)  female  35.0      1   \n",
       "4                           Allen, Mr. William Henry    male  35.0      0   \n",
       "\n",
       "   Parch            Ticket     Fare Cabin Embarked  \n",
       "0      0         A/5 21171   7.2500   NaN        S  \n",
       "1      0          PC 17599  71.2833   C85        C  \n",
       "2      0  STON/O2. 3101282   7.9250   NaN        S  \n",
       "3      0            113803  53.1000  C123        S  \n",
       "4      0            373450   8.0500   NaN        S  "
      ]
     },
     "execution_count": 3,
     "metadata": {},
     "output_type": "execute_result"
    }
   ],
   "source": [
    "train.head()"
   ]
  },
  {
   "cell_type": "code",
   "execution_count": 52,
   "metadata": {},
   "outputs": [],
   "source": [
    "# Função para transformar variável nominal em número\n",
    "def transformar_sexo(valor):\n",
    "    if valor == 'female':\n",
    "        return 1\n",
    "    else:\n",
    "        return 0\n",
    "\n",
    "train['Sexo_binario'] = train['Sex'].map(transformar_sexo)\n",
    "teste['Sexo_binario'] = teste['Sex'].map(transformar_sexo)"
   ]
  },
  {
   "cell_type": "markdown",
   "metadata": {},
   "source": [
    "# Desenvolvimento e teste de soluções"
   ]
  },
  {
   "cell_type": "code",
   "execution_count": 24,
   "metadata": {},
   "outputs": [],
   "source": [
    "# Importação do classificador\n",
    "from sklearn.ensemble import RandomForestClassifier\n",
    "from sklearn.model_selection import RepeatedKFold"
   ]
  },
  {
   "cell_type": "code",
   "execution_count": 25,
   "metadata": {},
   "outputs": [],
   "source": [
    "# Variáveis que serão utilizadas\n",
    "variaveis = ['Sexo_binario', 'Age']"
   ]
  },
  {
   "cell_type": "code",
   "execution_count": 28,
   "metadata": {},
   "outputs": [],
   "source": [
    "# Recuperação apenas dos dados que serão utilizados\n",
    "X = train[variaveis]\n",
    "y = train['Survived']"
   ]
  },
  {
   "cell_type": "code",
   "execution_count": 29,
   "metadata": {},
   "outputs": [],
   "source": [
    "# Preenchimento de dados nulos\n",
    "X = X.fillna(-1)"
   ]
  },
  {
   "cell_type": "markdown",
   "metadata": {},
   "source": [
    "### Validação Cruzada"
   ]
  },
  {
   "cell_type": "code",
   "execution_count": 31,
   "metadata": {},
   "outputs": [
    {
     "name": "stdout",
     "output_type": "stream",
     "text": [
      "Treino:  445\n",
      "Validação:  446\n",
      "Acc:  0.7511210762331838\n",
      "\n",
      "Treino:  446\n",
      "Validação:  445\n",
      "Acc:  0.7617977528089888\n",
      "\n",
      "Treino:  445\n",
      "Validação:  446\n",
      "Acc:  0.7533632286995515\n",
      "\n",
      "Treino:  446\n",
      "Validação:  445\n",
      "Acc:  0.7595505617977528\n",
      "\n",
      "Treino:  445\n",
      "Validação:  446\n",
      "Acc:  0.7690582959641256\n",
      "\n",
      "Treino:  446\n",
      "Validação:  445\n",
      "Acc:  0.7573033707865169\n",
      "\n",
      "Treino:  445\n",
      "Validação:  446\n",
      "Acc:  0.7399103139013453\n",
      "\n",
      "Treino:  446\n",
      "Validação:  445\n",
      "Acc:  0.7595505617977528\n",
      "\n",
      "Treino:  445\n",
      "Validação:  446\n",
      "Acc:  0.7354260089686099\n",
      "\n",
      "Treino:  446\n",
      "Validação:  445\n",
      "Acc:  0.797752808988764\n",
      "\n",
      "Treino:  445\n",
      "Validação:  446\n",
      "Acc:  0.7690582959641256\n",
      "\n",
      "Treino:  446\n",
      "Validação:  445\n",
      "Acc:  0.7640449438202247\n",
      "\n",
      "Treino:  445\n",
      "Validação:  446\n",
      "Acc:  0.7757847533632287\n",
      "\n",
      "Treino:  446\n",
      "Validação:  445\n",
      "Acc:  0.7573033707865169\n",
      "\n",
      "Treino:  445\n",
      "Validação:  446\n",
      "Acc:  0.7556053811659192\n",
      "\n",
      "Treino:  446\n",
      "Validação:  445\n",
      "Acc:  0.7640449438202247\n",
      "\n",
      "Treino:  445\n",
      "Validação:  446\n",
      "Acc:  0.7443946188340808\n",
      "\n",
      "Treino:  446\n",
      "Validação:  445\n",
      "Acc:  0.7595505617977528\n",
      "\n",
      "Treino:  445\n",
      "Validação:  446\n",
      "Acc:  0.7533632286995515\n",
      "\n",
      "Treino:  446\n",
      "Validação:  445\n",
      "Acc:  0.7640449438202247\n",
      "\n"
     ]
    }
   ],
   "source": [
    "# Execução real com validação cruzada\n",
    "kf = RepeatedKFold(n_splits=2, n_repeats=10, random_state=10)\n",
    "\n",
    "resultados = []\n",
    "for linhas_treino, linhas_valid in kf.split(X):\n",
    "    print(\"Treino: \", linhas_treino.shape[0])\n",
    "    print(\"Validação: \", linhas_valid.shape[0])\n",
    "\n",
    "    # Separa o X e y de treinamento e validação\n",
    "    X_treino, X_valid = X.iloc[linhas_treino], X.iloc[linhas_valid]\n",
    "    y_treino, y_valid= y.iloc[linhas_treino], y.iloc[linhas_valid]\n",
    "\n",
    "    # Treina o modelo com os dados destacados para treino na execução\n",
    "    modelo_floresta = RandomForestClassifier(n_estimators=100, n_jobs=1, random_state=0)\n",
    "    modelo_floresta.fit(X_treino,y_treino)\n",
    "\n",
    "    p = modelo_floresta.predict(X_valid)\n",
    "    acc = np.mean(y_valid == p)\n",
    "    resultados.append(acc)\n",
    "    print(\"Acc: \", acc)\n",
    "    print()"
   ]
  },
  {
   "cell_type": "code",
   "execution_count": 32,
   "metadata": {},
   "outputs": [
    {
     "name": "stdout",
     "output_type": "stream",
     "text": [
      "Populating the interactive namespace from numpy and matplotlib\n"
     ]
    },
    {
     "name": "stderr",
     "output_type": "stream",
     "text": [
      "C:\\Users\\Yuri Guerra\\anaconda3\\lib\\site-packages\\IPython\\core\\magics\\pylab.py:159: UserWarning: pylab import has clobbered these variables: ['test']\n",
      "`%matplotlib` prevents importing * from pylab and numpy\n",
      "  warn(\"pylab import has clobbered these variables: %s\"  % clobbered +\n"
     ]
    }
   ],
   "source": [
    "%matplotlib inline\n",
    "%pylab inline"
   ]
  },
  {
   "cell_type": "code",
   "execution_count": 34,
   "metadata": {},
   "outputs": [
    {
     "data": {
      "text/plain": [
       "0.759601451100922"
      ]
     },
     "execution_count": 34,
     "metadata": {},
     "output_type": "execute_result"
    }
   ],
   "source": [
    "# Média das previsões\n",
    "np.mean(resultados)"
   ]
  },
  {
   "cell_type": "code",
   "execution_count": 33,
   "metadata": {},
   "outputs": [
    {
     "data": {
      "text/plain": [
       "(array([2., 1., 3., 6., 4., 2., 1., 0., 0., 1.]),\n",
       " array([0.73542601, 0.74165869, 0.74789137, 0.75412405, 0.76035673,\n",
       "        0.76658941, 0.77282209, 0.77905477, 0.78528745, 0.79152013,\n",
       "        0.79775281]),\n",
       " <BarContainer object of 10 artists>)"
      ]
     },
     "execution_count": 33,
     "metadata": {},
     "output_type": "execute_result"
    },
    {
     "data": {
      "image/png": "[encoded data removed]",
      "text/plain": [
       "<Figure size 432x288 with 1 Axes>"
      ]
     },
     "metadata": {
      "needs_background": "light"
     },
     "output_type": "display_data"
    }
   ],
   "source": [
    "# Plota o histograma de resultados\n",
    "pylab.hist(resultados)"
   ]
  },
  {
   "cell_type": "markdown",
   "metadata": {},
   "source": [
    "### Treino com novas variáveis"
   ]
  },
  {
   "cell_type": "code",
   "execution_count": 44,
   "metadata": {},
   "outputs": [],
   "source": [
    "# Variáveis que serão utilizadas\n",
    "variaveis = ['Sexo_binario', 'Age', 'Pclass', 'SibSp', 'Parch', 'Fare']"
   ]
  },
  {
   "cell_type": "code",
   "execution_count": 36,
   "metadata": {},
   "outputs": [],
   "source": [
    "# Recuperação apenas dos dados que serão utilizados\n",
    "X = train[variaveis].fillna(-1)\n",
    "y = train['Survived']"
   ]
  },
  {
   "cell_type": "code",
   "execution_count": 37,
   "metadata": {},
   "outputs": [
    {
     "name": "stdout",
     "output_type": "stream",
     "text": [
      "Treino:  445\n",
      "Validação:  446\n",
      "Acc:  0.7869955156950673\n",
      "\n",
      "Treino:  446\n",
      "Validação:  445\n",
      "Acc:  0.7797752808988764\n",
      "\n",
      "Treino:  445\n",
      "Validação:  446\n",
      "Acc:  0.827354260089686\n",
      "\n",
      "Treino:  446\n",
      "Validação:  445\n",
      "Acc:  0.8179775280898877\n",
      "\n",
      "Treino:  445\n",
      "Validação:  446\n",
      "Acc:  0.7847533632286996\n",
      "\n",
      "Treino:  446\n",
      "Validação:  445\n",
      "Acc:  0.7842696629213484\n",
      "\n",
      "Treino:  445\n",
      "Validação:  446\n",
      "Acc:  0.8161434977578476\n",
      "\n",
      "Treino:  446\n",
      "Validação:  445\n",
      "Acc:  0.7842696629213484\n",
      "\n",
      "Treino:  445\n",
      "Validação:  446\n",
      "Acc:  0.8004484304932735\n",
      "\n",
      "Treino:  446\n",
      "Validação:  445\n",
      "Acc:  0.8\n",
      "\n",
      "Treino:  445\n",
      "Validação:  446\n",
      "Acc:  0.8183856502242153\n",
      "\n",
      "Treino:  446\n",
      "Validação:  445\n",
      "Acc:  0.802247191011236\n",
      "\n",
      "Treino:  445\n",
      "Validação:  446\n",
      "Acc:  0.8116591928251121\n",
      "\n",
      "Treino:  446\n",
      "Validação:  445\n",
      "Acc:  0.8067415730337079\n",
      "\n",
      "Treino:  445\n",
      "Validação:  446\n",
      "Acc:  0.820627802690583\n",
      "\n",
      "Treino:  446\n",
      "Validação:  445\n",
      "Acc:  0.7887640449438202\n",
      "\n",
      "Treino:  445\n",
      "Validação:  446\n",
      "Acc:  0.8385650224215246\n",
      "\n",
      "Treino:  446\n",
      "Validação:  445\n",
      "Acc:  0.8044943820224719\n",
      "\n",
      "Treino:  445\n",
      "Validação:  446\n",
      "Acc:  0.7982062780269058\n",
      "\n",
      "Treino:  446\n",
      "Validação:  445\n",
      "Acc:  0.8112359550561797\n",
      "\n"
     ]
    }
   ],
   "source": [
    "# Execução real com validação cruzada\n",
    "kf = RepeatedKFold(n_splits=2, n_repeats=10, random_state=10)\n",
    "\n",
    "resultados = []\n",
    "for linhas_treino, linhas_valid in kf.split(X):\n",
    "    print(\"Treino: \", linhas_treino.shape[0])\n",
    "    print(\"Validação: \", linhas_valid.shape[0])\n",
    "\n",
    "    # Separa o X e y de treinamento e validação\n",
    "    X_treino, X_valid = X.iloc[linhas_treino], X.iloc[linhas_valid]\n",
    "    y_treino, y_valid= y.iloc[linhas_treino], y.iloc[linhas_valid]\n",
    "\n",
    "    # Treina o modelo com os dados destacados para treino na execução\n",
    "    modelo_floresta = RandomForestClassifier(n_estimators=100, n_jobs=1, random_state=0)\n",
    "    modelo_floresta.fit(X_treino,y_treino)\n",
    "\n",
    "    p = modelo_floresta.predict(X_valid)\n",
    "    acc = np.mean(y_valid == p)\n",
    "    resultados.append(acc)\n",
    "    print(\"Acc: \", acc)\n",
    "    print()"
   ]
  },
  {
   "cell_type": "code",
   "execution_count": 41,
   "metadata": {},
   "outputs": [
    {
     "name": "stdout",
     "output_type": "stream",
     "text": [
      "Média dos resultados:  0.8041457147175896\n"
     ]
    },
    {
     "data": {
      "text/plain": [
       "(array([4., 2., 0., 4., 2., 2., 4., 0., 1., 1.]),\n",
       " array([0.77977528, 0.78565426, 0.79153323, 0.7974122 , 0.80329118,\n",
       "        0.80917015, 0.81504913, 0.8209281 , 0.82680707, 0.83268605,\n",
       "        0.83856502]),\n",
       " <BarContainer object of 10 artists>)"
      ]
     },
     "execution_count": 41,
     "metadata": {},
     "output_type": "execute_result"
    },
    {
     "data": {
      "image/png": "[encoded data removed]",
      "text/plain": [
       "<Figure size 432x288 with 1 Axes>"
      ]
     },
     "metadata": {
      "needs_background": "light"
     },
     "output_type": "display_data"
    }
   ],
   "source": [
    "# Média das previsões\n",
    "print(\"Média dos resultados: \", np.mean(resultados))\n",
    "# Plota o histograma de resultados\n",
    "pylab.hist(resultados)"
   ]
  },
  {
   "cell_type": "markdown",
   "metadata": {},
   "source": [
    "### Retreina o modelo utilizando todos os registros e as variáveis selecionadas"
   ]
  },
  {
   "cell_type": "code",
   "execution_count": 53,
   "metadata": {},
   "outputs": [
    {
     "data": {
      "text/html": [
       "<div>\n",
       "<style scoped>\n",
       "    .dataframe tbody tr th:only-of-type {\n",
       "        vertical-align: middle;\n",
       "    }\n",
       "\n",
       "    .dataframe tbody tr th {\n",
       "        vertical-align: top;\n",
       "    }\n",
       "\n",
       "    .dataframe thead th {\n",
       "        text-align: right;\n",
       "    }\n",
       "</style>\n",
       "<table border=\"1\" class=\"dataframe\">\n",
       "  <thead>\n",
       "    <tr style=\"text-align: right;\">\n",
       "      <th></th>\n",
       "      <th>Sexo_binario</th>\n",
       "      <th>Age</th>\n",
       "      <th>Pclass</th>\n",
       "      <th>SibSp</th>\n",
       "      <th>Parch</th>\n",
       "      <th>Fare</th>\n",
       "    </tr>\n",
       "  </thead>\n",
       "  <tbody>\n",
       "    <tr>\n",
       "      <th>0</th>\n",
       "      <td>0</td>\n",
       "      <td>34.5</td>\n",
       "      <td>3</td>\n",
       "      <td>0</td>\n",
       "      <td>0</td>\n",
       "      <td>7.8292</td>\n",
       "    </tr>\n",
       "    <tr>\n",
       "      <th>1</th>\n",
       "      <td>1</td>\n",
       "      <td>47.0</td>\n",
       "      <td>3</td>\n",
       "      <td>1</td>\n",
       "      <td>0</td>\n",
       "      <td>7.0000</td>\n",
       "    </tr>\n",
       "    <tr>\n",
       "      <th>2</th>\n",
       "      <td>0</td>\n",
       "      <td>62.0</td>\n",
       "      <td>2</td>\n",
       "      <td>0</td>\n",
       "      <td>0</td>\n",
       "      <td>9.6875</td>\n",
       "    </tr>\n",
       "    <tr>\n",
       "      <th>3</th>\n",
       "      <td>0</td>\n",
       "      <td>27.0</td>\n",
       "      <td>3</td>\n",
       "      <td>0</td>\n",
       "      <td>0</td>\n",
       "      <td>8.6625</td>\n",
       "    </tr>\n",
       "    <tr>\n",
       "      <th>4</th>\n",
       "      <td>1</td>\n",
       "      <td>22.0</td>\n",
       "      <td>3</td>\n",
       "      <td>1</td>\n",
       "      <td>1</td>\n",
       "      <td>12.2875</td>\n",
       "    </tr>\n",
       "  </tbody>\n",
       "</table>\n",
       "</div>"
      ],
      "text/plain": [
       "   Sexo_binario   Age  Pclass  SibSp  Parch     Fare\n",
       "0             0  34.5       3      0      0   7.8292\n",
       "1             1  47.0       3      1      0   7.0000\n",
       "2             0  62.0       2      0      0   9.6875\n",
       "3             0  27.0       3      0      0   8.6625\n",
       "4             1  22.0       3      1      1  12.2875"
      ]
     },
     "execution_count": 53,
     "metadata": {},
     "output_type": "execute_result"
    }
   ],
   "source": [
    "teste[variaveis].head()"
   ]
  },
  {
   "cell_type": "code",
   "execution_count": 55,
   "metadata": {},
   "outputs": [],
   "source": [
    "# Treina o modelo com os dados destacados para treino na execução\n",
    "modelo_floresta = RandomForestClassifier(n_estimators=100, n_jobs=1, random_state=0)\n",
    "modelo_floresta.fit(X,y)\n",
    "\n",
    "p = modelo_floresta.predict(teste[variaveis].fillna(-1))"
   ]
  },
  {
   "cell_type": "code",
   "execution_count": 56,
   "metadata": {},
   "outputs": [
    {
     "data": {
      "text/plain": [
       "array([0, 0, 1, 1, 0, 0, 0, 0, 1, 0, 0, 0, 1, 0, 1, 1, 0, 1, 0, 0, 0, 0,\n",
       "       1, 0, 1, 0, 1, 1, 1, 0, 0, 0, 1, 0, 1, 0, 0, 0, 0, 1, 0, 0, 0, 1,\n",
       "       1, 0, 0, 0, 1, 1, 0, 0, 1, 1, 0, 0, 0, 0, 0, 1, 0, 0, 0, 1, 1, 1,\n",
       "       1, 0, 0, 1, 1, 0, 0, 0, 1, 0, 0, 1, 0, 1, 1, 0, 0, 0, 1, 0, 1, 0,\n",
       "       1, 1, 0, 0, 1, 0, 0, 0, 1, 1, 0, 0, 1, 0, 0, 0, 1, 0, 0, 0, 0, 0,\n",
       "       0, 1, 1, 1, 1, 0, 0, 1, 0, 1, 1, 0, 1, 0, 0, 0, 0, 1, 0, 0, 1, 0,\n",
       "       0, 0, 0, 0, 0, 0, 0, 0, 0, 1, 0, 0, 1, 0, 0, 0, 0, 0, 1, 0, 0, 1,\n",
       "       0, 0, 1, 1, 1, 1, 1, 1, 1, 0, 0, 1, 0, 0, 1, 0, 0, 0, 0, 0, 0, 1,\n",
       "       1, 0, 1, 1, 0, 0, 1, 0, 1, 0, 1, 0, 0, 0, 0, 0, 1, 0, 1, 0, 1, 0,\n",
       "       0, 0, 1, 1, 0, 1, 0, 0, 0, 0, 1, 0, 0, 0, 0, 1, 1, 0, 1, 0, 1, 0,\n",
       "       1, 0, 1, 1, 1, 0, 0, 1, 0, 0, 0, 1, 0, 0, 0, 0, 0, 1, 1, 1, 1, 1,\n",
       "       0, 0, 0, 0, 1, 0, 1, 0, 1, 0, 1, 0, 0, 0, 0, 0, 1, 0, 0, 0, 1, 1,\n",
       "       0, 0, 0, 0, 0, 0, 0, 0, 1, 1, 0, 1, 0, 0, 0, 0, 0, 1, 1, 0, 1, 0,\n",
       "       0, 0, 0, 0, 0, 0, 0, 0, 0, 0, 1, 0, 0, 0, 0, 0, 0, 0, 1, 1, 1, 1,\n",
       "       0, 0, 0, 1, 0, 0, 1, 1, 0, 0, 0, 0, 0, 0, 0, 1, 1, 0, 1, 0, 0, 0,\n",
       "       1, 0, 0, 0, 0, 0, 1, 0, 0, 0, 0, 0, 0, 1, 1, 1, 0, 0, 0, 1, 1, 0,\n",
       "       0, 0, 1, 0, 1, 0, 0, 0, 0, 1, 1, 1, 1, 0, 0, 0, 1, 0, 0, 1, 0, 0,\n",
       "       1, 1, 0, 0, 0, 0, 0, 0, 0, 0, 1, 1, 0, 0, 0, 0, 0, 1, 0, 0, 0, 1,\n",
       "       0, 1, 0, 0, 1, 0, 1, 0, 0, 0, 0, 0, 1, 1, 1, 1, 0, 0, 1, 0, 0, 0],\n",
       "      dtype=int64)"
      ]
     },
     "execution_count": 56,
     "metadata": {},
     "output_type": "execute_result"
    }
   ],
   "source": [
    "p"
   ]
  },
  {
   "cell_type": "markdown",
   "metadata": {},
   "source": [
    "# Criar submission para o Kaggle"
   ]
  },
  {
   "cell_type": "code",
   "execution_count": 58,
   "metadata": {},
   "outputs": [
    {
     "data": {
      "text/plain": [
       "(418,)"
      ]
     },
     "execution_count": 58,
     "metadata": {},
     "output_type": "execute_result"
    }
   ],
   "source": [
    "sub = pd.Series(p, index=teste['PassengerId'], name='Survived')\n",
    "sub.shape"
   ]
  },
  {
   "cell_type": "code",
   "execution_count": 59,
   "metadata": {},
   "outputs": [],
   "source": [
    "sub.to_csv(\"output/RandomForestModelV4.csv\", header=True)"
   ]
  }
 ],
 "metadata": {
  "interpreter": {
   "hash": "f6ca10d8833a8ebfbba45abbc8d5fce574d9ac4f4bf844b19464c0301633cd36"
  },
  "kernelspec": {
   "display_name": "Python 3.8.8 64-bit ('Yuri Guerra': virtualenv)",
   "language": "python",
   "name": "python3"
  },
  "language_info": {
   "codemirror_mode": {
    "name": "ipython",
    "version": 3
   },
   "file_extension": ".py",
   "mimetype": "text/x-python",
   "name": "python",
   "nbconvert_exporter": "python",
   "pygments_lexer": "ipython3",
   "version": "3.8.8"
  },
  "orig_nbformat": 4
 },
 "nbformat": 4,
 "nbformat_minor": 2
}
