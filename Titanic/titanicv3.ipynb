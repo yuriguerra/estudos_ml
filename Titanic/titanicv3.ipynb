{
 "cells": [
  {
   "cell_type": "markdown",
   "metadata": {},
   "source": [
    "# Importação de bibliotecas"
   ]
  },
  {
   "cell_type": "code",
   "execution_count": 1,
   "metadata": {},
   "outputs": [],
   "source": [
    "import pandas as pd\n",
    "import numpy as np"
   ]
  },
  {
   "cell_type": "markdown",
   "metadata": {},
   "source": [
    "# Recuperação dos dados"
   ]
  },
  {
   "cell_type": "code",
   "execution_count": 2,
   "metadata": {},
   "outputs": [],
   "source": [
    "train = pd.read_csv(\"data/train.csv\")\n",
    "test = pd.read_csv(\"data/test.csv\")"
   ]
  },
  {
   "cell_type": "code",
   "execution_count": 3,
   "metadata": {},
   "outputs": [
    {
     "data": {
      "text/html": [
       "<div>\n",
       "<style scoped>\n",
       "    .dataframe tbody tr th:only-of-type {\n",
       "        vertical-align: middle;\n",
       "    }\n",
       "\n",
       "    .dataframe tbody tr th {\n",
       "        vertical-align: top;\n",
       "    }\n",
       "\n",
       "    .dataframe thead th {\n",
       "        text-align: right;\n",
       "    }\n",
       "</style>\n",
       "<table border=\"1\" class=\"dataframe\">\n",
       "  <thead>\n",
       "    <tr style=\"text-align: right;\">\n",
       "      <th></th>\n",
       "      <th>PassengerId</th>\n",
       "      <th>Survived</th>\n",
       "      <th>Pclass</th>\n",
       "      <th>Name</th>\n",
       "      <th>Sex</th>\n",
       "      <th>Age</th>\n",
       "      <th>SibSp</th>\n",
       "      <th>Parch</th>\n",
       "      <th>Ticket</th>\n",
       "      <th>Fare</th>\n",
       "      <th>Cabin</th>\n",
       "      <th>Embarked</th>\n",
       "    </tr>\n",
       "  </thead>\n",
       "  <tbody>\n",
       "    <tr>\n",
       "      <th>0</th>\n",
       "      <td>1</td>\n",
       "      <td>0</td>\n",
       "      <td>3</td>\n",
       "      <td>Braund, Mr. Owen Harris</td>\n",
       "      <td>male</td>\n",
       "      <td>22.0</td>\n",
       "      <td>1</td>\n",
       "      <td>0</td>\n",
       "      <td>A/5 21171</td>\n",
       "      <td>7.2500</td>\n",
       "      <td>NaN</td>\n",
       "      <td>S</td>\n",
       "    </tr>\n",
       "    <tr>\n",
       "      <th>1</th>\n",
       "      <td>2</td>\n",
       "      <td>1</td>\n",
       "      <td>1</td>\n",
       "      <td>Cumings, Mrs. John Bradley (Florence Briggs Th...</td>\n",
       "      <td>female</td>\n",
       "      <td>38.0</td>\n",
       "      <td>1</td>\n",
       "      <td>0</td>\n",
       "      <td>PC 17599</td>\n",
       "      <td>71.2833</td>\n",
       "      <td>C85</td>\n",
       "      <td>C</td>\n",
       "    </tr>\n",
       "    <tr>\n",
       "      <th>2</th>\n",
       "      <td>3</td>\n",
       "      <td>1</td>\n",
       "      <td>3</td>\n",
       "      <td>Heikkinen, Miss. Laina</td>\n",
       "      <td>female</td>\n",
       "      <td>26.0</td>\n",
       "      <td>0</td>\n",
       "      <td>0</td>\n",
       "      <td>STON/O2. 3101282</td>\n",
       "      <td>7.9250</td>\n",
       "      <td>NaN</td>\n",
       "      <td>S</td>\n",
       "    </tr>\n",
       "    <tr>\n",
       "      <th>3</th>\n",
       "      <td>4</td>\n",
       "      <td>1</td>\n",
       "      <td>1</td>\n",
       "      <td>Futrelle, Mrs. Jacques Heath (Lily May Peel)</td>\n",
       "      <td>female</td>\n",
       "      <td>35.0</td>\n",
       "      <td>1</td>\n",
       "      <td>0</td>\n",
       "      <td>113803</td>\n",
       "      <td>53.1000</td>\n",
       "      <td>C123</td>\n",
       "      <td>S</td>\n",
       "    </tr>\n",
       "    <tr>\n",
       "      <th>4</th>\n",
       "      <td>5</td>\n",
       "      <td>0</td>\n",
       "      <td>3</td>\n",
       "      <td>Allen, Mr. William Henry</td>\n",
       "      <td>male</td>\n",
       "      <td>35.0</td>\n",
       "      <td>0</td>\n",
       "      <td>0</td>\n",
       "      <td>373450</td>\n",
       "      <td>8.0500</td>\n",
       "      <td>NaN</td>\n",
       "      <td>S</td>\n",
       "    </tr>\n",
       "  </tbody>\n",
       "</table>\n",
       "</div>"
      ],
      "text/plain": [
       "   PassengerId  Survived  Pclass  \\\n",
       "0            1         0       3   \n",
       "1            2         1       1   \n",
       "2            3         1       3   \n",
       "3            4         1       1   \n",
       "4            5         0       3   \n",
       "\n",
       "                                                Name     Sex   Age  SibSp  \\\n",
       "0                            Braund, Mr. Owen Harris    male  22.0      1   \n",
       "1  Cumings, Mrs. John Bradley (Florence Briggs Th...  female  38.0      1   \n",
       "2                             Heikkinen, Miss. Laina  female  26.0      0   \n",
       "3       Futrelle, Mrs. Jacques Heath (Lily May Peel)  female  35.0      1   \n",
       "4                           Allen, Mr. William Henry    male  35.0      0   \n",
       "\n",
       "   Parch            Ticket     Fare Cabin Embarked  \n",
       "0      0         A/5 21171   7.2500   NaN        S  \n",
       "1      0          PC 17599  71.2833   C85        C  \n",
       "2      0  STON/O2. 3101282   7.9250   NaN        S  \n",
       "3      0            113803  53.1000  C123        S  \n",
       "4      0            373450   8.0500   NaN        S  "
      ]
     },
     "execution_count": 3,
     "metadata": {},
     "output_type": "execute_result"
    }
   ],
   "source": [
    "train.head()"
   ]
  },
  {
   "cell_type": "markdown",
   "metadata": {},
   "source": [
    "# Desenvolvimento e teste de soluções"
   ]
  },
  {
   "cell_type": "code",
   "execution_count": 4,
   "metadata": {},
   "outputs": [],
   "source": [
    "# Importação do classificador\n",
    "from sklearn.ensemble import RandomForestClassifier\n",
    "from sklearn.model_selection import train_test_split"
   ]
  },
  {
   "cell_type": "code",
   "execution_count": 5,
   "metadata": {},
   "outputs": [],
   "source": [
    "# Parametrização do modedlo\n",
    "modelo_floresta = RandomForestClassifier(n_estimators=100, n_jobs=1, random_state=0)"
   ]
  },
  {
   "cell_type": "code",
   "execution_count": 6,
   "metadata": {},
   "outputs": [],
   "source": [
    "# Variáveis que serão utilizadas\n",
    "variaveis = ['Sexo_binario', 'Age']"
   ]
  },
  {
   "cell_type": "code",
   "execution_count": 7,
   "metadata": {},
   "outputs": [
    {
     "data": {
      "text/plain": [
       "male      577\n",
       "female    314\n",
       "Name: Sex, dtype: int64"
      ]
     },
     "execution_count": 7,
     "metadata": {},
     "output_type": "execute_result"
    }
   ],
   "source": [
    "# Checagem de variável\n",
    "train['Sex'].value_counts()"
   ]
  },
  {
   "cell_type": "code",
   "execution_count": 8,
   "metadata": {},
   "outputs": [],
   "source": [
    "# Função para transformar variável nominal em número\n",
    "def transformar_sexo(valor):\n",
    "    if valor == 'female':\n",
    "        return 1\n",
    "    else:\n",
    "        return 0\n",
    "\n",
    "train['Sexo_binario'] = train['Sex'].map(transformar_sexo)"
   ]
  },
  {
   "cell_type": "code",
   "execution_count": 9,
   "metadata": {},
   "outputs": [
    {
     "data": {
      "text/html": [
       "<div>\n",
       "<style scoped>\n",
       "    .dataframe tbody tr th:only-of-type {\n",
       "        vertical-align: middle;\n",
       "    }\n",
       "\n",
       "    .dataframe tbody tr th {\n",
       "        vertical-align: top;\n",
       "    }\n",
       "\n",
       "    .dataframe thead th {\n",
       "        text-align: right;\n",
       "    }\n",
       "</style>\n",
       "<table border=\"1\" class=\"dataframe\">\n",
       "  <thead>\n",
       "    <tr style=\"text-align: right;\">\n",
       "      <th></th>\n",
       "      <th>PassengerId</th>\n",
       "      <th>Survived</th>\n",
       "      <th>Pclass</th>\n",
       "      <th>Name</th>\n",
       "      <th>Sex</th>\n",
       "      <th>Age</th>\n",
       "      <th>SibSp</th>\n",
       "      <th>Parch</th>\n",
       "      <th>Ticket</th>\n",
       "      <th>Fare</th>\n",
       "      <th>Cabin</th>\n",
       "      <th>Embarked</th>\n",
       "      <th>Sexo_binario</th>\n",
       "    </tr>\n",
       "  </thead>\n",
       "  <tbody>\n",
       "    <tr>\n",
       "      <th>0</th>\n",
       "      <td>1</td>\n",
       "      <td>0</td>\n",
       "      <td>3</td>\n",
       "      <td>Braund, Mr. Owen Harris</td>\n",
       "      <td>male</td>\n",
       "      <td>22.0</td>\n",
       "      <td>1</td>\n",
       "      <td>0</td>\n",
       "      <td>A/5 21171</td>\n",
       "      <td>7.2500</td>\n",
       "      <td>NaN</td>\n",
       "      <td>S</td>\n",
       "      <td>0</td>\n",
       "    </tr>\n",
       "    <tr>\n",
       "      <th>1</th>\n",
       "      <td>2</td>\n",
       "      <td>1</td>\n",
       "      <td>1</td>\n",
       "      <td>Cumings, Mrs. John Bradley (Florence Briggs Th...</td>\n",
       "      <td>female</td>\n",
       "      <td>38.0</td>\n",
       "      <td>1</td>\n",
       "      <td>0</td>\n",
       "      <td>PC 17599</td>\n",
       "      <td>71.2833</td>\n",
       "      <td>C85</td>\n",
       "      <td>C</td>\n",
       "      <td>1</td>\n",
       "    </tr>\n",
       "    <tr>\n",
       "      <th>2</th>\n",
       "      <td>3</td>\n",
       "      <td>1</td>\n",
       "      <td>3</td>\n",
       "      <td>Heikkinen, Miss. Laina</td>\n",
       "      <td>female</td>\n",
       "      <td>26.0</td>\n",
       "      <td>0</td>\n",
       "      <td>0</td>\n",
       "      <td>STON/O2. 3101282</td>\n",
       "      <td>7.9250</td>\n",
       "      <td>NaN</td>\n",
       "      <td>S</td>\n",
       "      <td>1</td>\n",
       "    </tr>\n",
       "    <tr>\n",
       "      <th>3</th>\n",
       "      <td>4</td>\n",
       "      <td>1</td>\n",
       "      <td>1</td>\n",
       "      <td>Futrelle, Mrs. Jacques Heath (Lily May Peel)</td>\n",
       "      <td>female</td>\n",
       "      <td>35.0</td>\n",
       "      <td>1</td>\n",
       "      <td>0</td>\n",
       "      <td>113803</td>\n",
       "      <td>53.1000</td>\n",
       "      <td>C123</td>\n",
       "      <td>S</td>\n",
       "      <td>1</td>\n",
       "    </tr>\n",
       "    <tr>\n",
       "      <th>4</th>\n",
       "      <td>5</td>\n",
       "      <td>0</td>\n",
       "      <td>3</td>\n",
       "      <td>Allen, Mr. William Henry</td>\n",
       "      <td>male</td>\n",
       "      <td>35.0</td>\n",
       "      <td>0</td>\n",
       "      <td>0</td>\n",
       "      <td>373450</td>\n",
       "      <td>8.0500</td>\n",
       "      <td>NaN</td>\n",
       "      <td>S</td>\n",
       "      <td>0</td>\n",
       "    </tr>\n",
       "  </tbody>\n",
       "</table>\n",
       "</div>"
      ],
      "text/plain": [
       "   PassengerId  Survived  Pclass  \\\n",
       "0            1         0       3   \n",
       "1            2         1       1   \n",
       "2            3         1       3   \n",
       "3            4         1       1   \n",
       "4            5         0       3   \n",
       "\n",
       "                                                Name     Sex   Age  SibSp  \\\n",
       "0                            Braund, Mr. Owen Harris    male  22.0      1   \n",
       "1  Cumings, Mrs. John Bradley (Florence Briggs Th...  female  38.0      1   \n",
       "2                             Heikkinen, Miss. Laina  female  26.0      0   \n",
       "3       Futrelle, Mrs. Jacques Heath (Lily May Peel)  female  35.0      1   \n",
       "4                           Allen, Mr. William Henry    male  35.0      0   \n",
       "\n",
       "   Parch            Ticket     Fare Cabin Embarked  Sexo_binario  \n",
       "0      0         A/5 21171   7.2500   NaN        S             0  \n",
       "1      0          PC 17599  71.2833   C85        C             1  \n",
       "2      0  STON/O2. 3101282   7.9250   NaN        S             1  \n",
       "3      0            113803  53.1000  C123        S             1  \n",
       "4      0            373450   8.0500   NaN        S             0  "
      ]
     },
     "execution_count": 9,
     "metadata": {},
     "output_type": "execute_result"
    }
   ],
   "source": [
    "train.head()"
   ]
  },
  {
   "cell_type": "code",
   "execution_count": 10,
   "metadata": {},
   "outputs": [],
   "source": [
    "# Recuperação apenas dos dados que serão utilizados\n",
    "X = train[variaveis]\n",
    "y = train['Survived']"
   ]
  },
  {
   "cell_type": "code",
   "execution_count": 11,
   "metadata": {},
   "outputs": [],
   "source": [
    "# Preenchimento de dados nulos\n",
    "X = X.fillna(-1)"
   ]
  },
  {
   "cell_type": "code",
   "execution_count": 21,
   "metadata": {},
   "outputs": [],
   "source": [
    "# Separação dos dados de treinamento em treinamento e validação\n",
    "np.random.seed(1)\n",
    "X_treino, X_valid, y_treino, y_valid = train_test_split(X, y, test_size=0.5)"
   ]
  },
  {
   "cell_type": "code",
   "execution_count": 22,
   "metadata": {},
   "outputs": [
    {
     "data": {
      "text/plain": [
       "RandomForestClassifier(n_jobs=1, random_state=0)"
      ]
     },
     "execution_count": 22,
     "metadata": {},
     "output_type": "execute_result"
    }
   ],
   "source": [
    "# Treinamento do modelo com dados de treino\n",
    "modelo_floresta.fit(X_treino,y_treino)"
   ]
  },
  {
   "cell_type": "code",
   "execution_count": 23,
   "metadata": {},
   "outputs": [],
   "source": [
    "# Previsão do modelo em dados de validação\n",
    "p = modelo_floresta.predict(X_valid)"
   ]
  },
  {
   "cell_type": "code",
   "execution_count": 24,
   "metadata": {},
   "outputs": [
    {
     "data": {
      "text/plain": [
       "0.7466367713004485"
      ]
     },
     "execution_count": 24,
     "metadata": {},
     "output_type": "execute_result"
    }
   ],
   "source": [
    "# Checa a acurácia\n",
    "np.mean(y_valid == p)"
   ]
  },
  {
   "cell_type": "markdown",
   "metadata": {},
   "source": [
    "### Validação Cruzada"
   ]
  },
  {
   "cell_type": "code",
   "execution_count": 25,
   "metadata": {},
   "outputs": [],
   "source": [
    "# Importação do Kfold\n",
    "from sklearn.model_selection import KFold"
   ]
  },
  {
   "cell_type": "code",
   "execution_count": 35,
   "metadata": {},
   "outputs": [
    {
     "name": "stdout",
     "output_type": "stream",
     "text": [
      "Treino:  [0 1 3 5 6 7]\n",
      "Validação:  [2 4 8 9]\n",
      "\n",
      "Treino:  [0 2 3 4 5 8 9]\n",
      "Validação:  [1 6 7]\n",
      "\n",
      "Treino:  [1 2 4 6 7 8 9]\n",
      "Validação:  [0 3 5]\n",
      "\n"
     ]
    }
   ],
   "source": [
    "## Exemplo e teste do Kfold \n",
    "X_falso = list(range(10))\n",
    "\n",
    "kf = KFold(3, shuffle=True, random_state=0)\n",
    "for linhas_treino, linhas_valid in kf.split(X_falso):\n",
    "    print(\"Treino: \", linhas_treino)\n",
    "    print(\"Validação: \", linhas_valid)\n",
    "    print()"
   ]
  },
  {
   "cell_type": "code",
   "execution_count": 37,
   "metadata": {},
   "outputs": [
    {
     "name": "stdout",
     "output_type": "stream",
     "text": [
      "Treino:  594\n",
      "Validação:  297\n",
      "Acc:  0.7609427609427609\n",
      "\n",
      "Treino:  594\n",
      "Validação:  297\n",
      "Acc:  0.7845117845117845\n",
      "\n",
      "Treino:  594\n",
      "Validação:  297\n",
      "Acc:  0.7643097643097643\n",
      "\n"
     ]
    }
   ],
   "source": [
    "# Execução real com validação cruzada\n",
    "kf = KFold(3, shuffle=True, random_state=0)\n",
    "\n",
    "resultados = []\n",
    "for linhas_treino, linhas_valid in kf.split(X):\n",
    "    print(\"Treino: \", linhas_treino.shape[0])\n",
    "    print(\"Validação: \", linhas_valid.shape[0])\n",
    "\n",
    "    # Separa o X e y de treinamento e validação\n",
    "    X_treino, X_valid = X.iloc[linhas_treino], X.iloc[linhas_valid]\n",
    "    y_treino, y_valid= y.iloc[linhas_treino], y.iloc[linhas_valid]\n",
    "\n",
    "    # Treina o modelo com os dados destacados para treino na execução\n",
    "    modelo_floresta = RandomForestClassifier(n_estimators=100, n_jobs=1, random_state=0)\n",
    "    modelo_floresta.fit(X_treino,y_treino)\n",
    "\n",
    "    p = modelo_floresta.predict(X_valid)\n",
    "    acc = np.mean(y_valid == p)\n",
    "    resultados.append(acc)\n",
    "    print(\"Acc: \", acc)\n",
    "    print()"
   ]
  },
  {
   "cell_type": "code",
   "execution_count": 38,
   "metadata": {},
   "outputs": [
    {
     "data": {
      "text/plain": [
       "0.7699214365881032"
      ]
     },
     "execution_count": 38,
     "metadata": {},
     "output_type": "execute_result"
    }
   ],
   "source": [
    "# Média final para 3 folds\n",
    "np.mean(resultados)"
   ]
  },
  {
   "cell_type": "code",
   "execution_count": 39,
   "metadata": {},
   "outputs": [
    {
     "name": "stdout",
     "output_type": "stream",
     "text": [
      "Treino:  801\n",
      "Validação:  90\n",
      "Acc:  0.7777777777777778\n",
      "\n",
      "Treino:  802\n",
      "Validação:  89\n",
      "Acc:  0.797752808988764\n",
      "\n",
      "Treino:  802\n",
      "Validação:  89\n",
      "Acc:  0.7078651685393258\n",
      "\n",
      "Treino:  802\n",
      "Validação:  89\n",
      "Acc:  0.7303370786516854\n",
      "\n",
      "Treino:  802\n",
      "Validação:  89\n",
      "Acc:  0.7865168539325843\n",
      "\n",
      "Treino:  802\n",
      "Validação:  89\n",
      "Acc:  0.8089887640449438\n",
      "\n",
      "Treino:  802\n",
      "Validação:  89\n",
      "Acc:  0.7528089887640449\n",
      "\n",
      "Treino:  802\n",
      "Validação:  89\n",
      "Acc:  0.8089887640449438\n",
      "\n",
      "Treino:  802\n",
      "Validação:  89\n",
      "Acc:  0.7752808988764045\n",
      "\n",
      "Treino:  802\n",
      "Validação:  89\n",
      "Acc:  0.8089887640449438\n",
      "\n"
     ]
    }
   ],
   "source": [
    "# Execução real com validação cruzada\n",
    "kf = KFold(10, shuffle=True, random_state=0)\n",
    "\n",
    "resultados = []\n",
    "for linhas_treino, linhas_valid in kf.split(X):\n",
    "    print(\"Treino: \", linhas_treino.shape[0])\n",
    "    print(\"Validação: \", linhas_valid.shape[0])\n",
    "\n",
    "    # Separa o X e y de treinamento e validação\n",
    "    X_treino, X_valid = X.iloc[linhas_treino], X.iloc[linhas_valid]\n",
    "    y_treino, y_valid= y.iloc[linhas_treino], y.iloc[linhas_valid]\n",
    "\n",
    "    # Treina o modelo com os dados destacados para treino na execução\n",
    "    modelo_floresta = RandomForestClassifier(n_estimators=100, n_jobs=1, random_state=0)\n",
    "    modelo_floresta.fit(X_treino,y_treino)\n",
    "\n",
    "    p = modelo_floresta.predict(X_valid)\n",
    "    acc = np.mean(y_valid == p)\n",
    "    resultados.append(acc)\n",
    "    print(\"Acc: \", acc)\n",
    "    print()"
   ]
  },
  {
   "cell_type": "code",
   "execution_count": 40,
   "metadata": {},
   "outputs": [
    {
     "data": {
      "text/plain": [
       "0.7755305867665419"
      ]
     },
     "execution_count": 40,
     "metadata": {},
     "output_type": "execute_result"
    }
   ],
   "source": [
    "# Média final para 10 folds\n",
    "np.mean(resultados)"
   ]
  },
  {
   "cell_type": "code",
   "execution_count": 42,
   "metadata": {},
   "outputs": [
    {
     "name": "stdout",
     "output_type": "stream",
     "text": [
      "Repetição:  0\n",
      "Treino:  445\n",
      "Validação:  446\n",
      "Acc:  0.7713004484304933\n",
      "\n",
      "Treino:  446\n",
      "Validação:  445\n",
      "Acc:  0.7797752808988764\n",
      "\n",
      "Repetição:  1\n",
      "Treino:  445\n",
      "Validação:  446\n",
      "Acc:  0.7443946188340808\n",
      "\n",
      "Treino:  446\n",
      "Validação:  445\n",
      "Acc:  0.7955056179775281\n",
      "\n",
      "Repetição:  2\n",
      "Treino:  445\n",
      "Validação:  446\n",
      "Acc:  0.7757847533632287\n",
      "\n",
      "Treino:  446\n",
      "Validação:  445\n",
      "Acc:  0.7887640449438202\n",
      "\n",
      "Repetição:  3\n",
      "Treino:  445\n",
      "Validação:  446\n",
      "Acc:  0.7533632286995515\n",
      "\n",
      "Treino:  446\n",
      "Validação:  445\n",
      "Acc:  0.7573033707865169\n",
      "\n",
      "Repetição:  4\n",
      "Treino:  445\n",
      "Validação:  446\n",
      "Acc:  0.7354260089686099\n",
      "\n",
      "Treino:  446\n",
      "Validação:  445\n",
      "Acc:  0.7415730337078652\n",
      "\n",
      "Repetição:  5\n",
      "Treino:  445\n",
      "Validação:  446\n",
      "Acc:  0.7219730941704036\n",
      "\n",
      "Treino:  446\n",
      "Validação:  445\n",
      "Acc:  0.7056179775280899\n",
      "\n",
      "Repetição:  6\n",
      "Treino:  445\n",
      "Validação:  446\n",
      "Acc:  0.7757847533632287\n",
      "\n",
      "Treino:  446\n",
      "Validação:  445\n",
      "Acc:  0.7303370786516854\n",
      "\n",
      "Repetição:  7\n",
      "Treino:  445\n",
      "Validação:  446\n",
      "Acc:  0.7040358744394619\n",
      "\n",
      "Treino:  446\n",
      "Validação:  445\n",
      "Acc:  0.7348314606741573\n",
      "\n",
      "Repetição:  8\n",
      "Treino:  445\n",
      "Validação:  446\n",
      "Acc:  0.7488789237668162\n",
      "\n",
      "Treino:  446\n",
      "Validação:  445\n",
      "Acc:  0.7887640449438202\n",
      "\n",
      "Repetição:  9\n",
      "Treino:  445\n",
      "Validação:  446\n",
      "Acc:  0.7623318385650224\n",
      "\n",
      "Treino:  446\n",
      "Validação:  445\n",
      "Acc:  0.7842696629213484\n",
      "\n"
     ]
    }
   ],
   "source": [
    "## Várias repetições com 2 folds mudando o random state\n",
    "# Execução real com validação cruzada\n",
    "resultados = []\n",
    "for rep in range(10):\n",
    "    print(\"Repetição: \", rep)\n",
    "    kf = KFold(2, shuffle=True, random_state=rep)\n",
    "\n",
    "    for linhas_treino, linhas_valid in kf.split(X):\n",
    "        print(\"Treino: \", linhas_treino.shape[0])\n",
    "        print(\"Validação: \", linhas_valid.shape[0])\n",
    "\n",
    "        # Separa o X e y de treinamento e validação\n",
    "        X_treino, X_valid = X.iloc[linhas_treino], X.iloc[linhas_valid]\n",
    "        y_treino, y_valid= y.iloc[linhas_treino], y.iloc[linhas_valid]\n",
    "\n",
    "        # Treina o modelo com os dados destacados para treino na execução\n",
    "        modelo_floresta = RandomForestClassifier(n_estimators=100, n_jobs=1, random_state=0)\n",
    "        modelo_floresta.fit(X_treino,y_treino)\n",
    "\n",
    "        p = modelo_floresta.predict(X_valid)\n",
    "        acc = np.mean(y_valid == p)\n",
    "        resultados.append(acc)\n",
    "        print(\"Acc: \", acc)\n",
    "        print()"
   ]
  },
  {
   "cell_type": "code",
   "execution_count": 43,
   "metadata": {},
   "outputs": [
    {
     "data": {
      "text/plain": [
       "0.7550007557817302"
      ]
     },
     "execution_count": 43,
     "metadata": {},
     "output_type": "execute_result"
    }
   ],
   "source": [
    "# Média final para 2 folds com alterações no random state\n",
    "np.mean(resultados)"
   ]
  }
 ],
 "metadata": {
  "interpreter": {
   "hash": "f6ca10d8833a8ebfbba45abbc8d5fce574d9ac4f4bf844b19464c0301633cd36"
  },
  "kernelspec": {
   "display_name": "Python 3.8.8 64-bit ('Yuri Guerra': virtualenv)",
   "language": "python",
   "name": "python3"
  },
  "language_info": {
   "codemirror_mode": {
    "name": "ipython",
    "version": 3
   },
   "file_extension": ".py",
   "mimetype": "text/x-python",
   "name": "python",
   "nbconvert_exporter": "python",
   "pygments_lexer": "ipython3",
   "version": "3.8.8"
  },
  "orig_nbformat": 4
 },
 "nbformat": 4,
 "nbformat_minor": 2
}
